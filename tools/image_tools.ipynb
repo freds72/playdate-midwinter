{
 "cells": [
  {
   "cell_type": "code",
   "execution_count": 1,
   "metadata": {},
   "outputs": [],
   "source": [
    "from PIL import Image\n",
    "\n",
    "def img_rotate_and_scale(filename, min_angle=0,max_angle=180, scale=1, scale_id=None, scale_range=None):\n",
    "  src =  Image.open(f'../source/images/{filename}.png')\n",
    "  for i in range(min_angle,max_angle+1):\n",
    "    angle = i\n",
    "    name = f'../source/images/generated/{filename}-table-{i-min_angle+1}.png'\n",
    "    dst = src.rotate(angle, resample=Image.NEAREST, expand=True, fillcolor=0)\n",
    "    if scale_id is not None:\n",
    "      width,height = dst.size\n",
    "      dst = dst.resize((int(scale * width), int(scale*height)),resample=Image.NEAREST)\n",
    "      name = f'../source/images/generated/{filename}-table-{(i-min_angle)*scale_range + scale_id+1}.png'\n",
    "    dst = dst.crop(dst.getbbox())\n",
    "    \n",
    "    dst.save(name,bits=1,optimize=False)\n",
    "\n",
    "def img_scale(src, scale, scale_id, filename):\n",
    "  name = f'../source/images/generated/{filename}-table-{scale_id+1}.png'\n",
    "  width,height = src.size\n",
    "  dst = src.resize((int(scale * width), int(scale*height)),resample=Image.NEAREST)    \n",
    "  dst.save(name,bits=8,optimize=False)"
   ]
  },
  {
   "cell_type": "code",
   "execution_count": 2,
   "metadata": {},
   "outputs": [],
   "source": [
    "max_scale_factor = 2"
   ]
  },
  {
   "cell_type": "code",
   "execution_count": 3,
   "metadata": {},
   "outputs": [
    {
     "name": "stdout",
     "output_type": "stream",
     "text": [
      "Unique scales: 16\n"
     ]
    },
    {
     "data": {
      "text/plain": [
       "[<matplotlib.lines.Line2D at 0x18f6844fb80>]"
      ]
     },
     "execution_count": 3,
     "metadata": {},
     "output_type": "execute_result"
    },
    {
     "data": {
      "image/png": "[encoded data removed]",
      "text/plain": [
       "<Figure size 640x480 with 1 Axes>"
      ]
     },
     "metadata": {},
     "output_type": "display_data"
    }
   ],
   "source": [
    "import matplotlib.pyplot as plt\n",
    "import numpy as np\n",
    "\n",
    "x = np.linspace(1,16,num=256)\n",
    "y = max_scale_factor/x\n",
    "\n",
    "plt.plot(x,y,'-')\n",
    "\n",
    "prev_scale = 5000\n",
    "scales = []\n",
    "count = 0\n",
    "for scale in y:\n",
    "  # keep values significantly different from previous\n",
    "  if prev_scale-scale>0.1:\n",
    "    prev_scale = scale\n",
    "    count += 1\n",
    "  scales.append(prev_scale)\n",
    "\n",
    "print(f\"Unique scales: {count}\")\n",
    "plt.plot(x,scales,'x')\n"
   ]
  },
  {
   "cell_type": "code",
   "execution_count": 4,
   "metadata": {},
   "outputs": [
    {
     "name": "stdout",
     "output_type": "stream",
     "text": [
      "Unique scales: 16\n"
     ]
    }
   ],
   "source": [
    "import os\n",
    "import numpy as np\n",
    "\n",
    "os.makedirs(\"../source/images/generated\",exist_ok=True)\n",
    "\n",
    "# compute optimal number of sprites\n",
    "x = np.linspace(1,16,num=256)\n",
    "prev_scale = 5000\n",
    "scales = []\n",
    "scale_ids = []\n",
    "unique_scales = []\n",
    "for scale in max_scale_factor/x:\n",
    "  # keep values significantly different from previous\n",
    "  if prev_scale-scale>0.1:\n",
    "    prev_scale = scale\n",
    "    unique_scales.append(scale)\n",
    "  scale_ids.append(len(unique_scales)-1)\n",
    "  scales.append(prev_scale)\n",
    "\n",
    "unique_scales_count = len(unique_scales)\n",
    "print(f\"Unique scales: {unique_scales_count}\")\n",
    "# generate header file\n",
    "with open(\"../lib3d/scales.h\",\"w\") as f:\n",
    "  f.write(f'''\n",
    "#ifndef _scales_h\n",
    "#define _scales_h\n",
    "#include <stdint.h>\n",
    "/*\n",
    "* generated - DO NOT EDIT\n",
    "*/\n",
    "\n",
    "// number of scaled images          \n",
    "#define _scaled_image_count {unique_scales_count}\n",
    "#define _scaled_image_min_angle -30\n",
    "#define _scaled_image_max_angle 30\n",
    "// 1/z to scale id\n",
    "static const uint8_t _scaled_by_z[{len(scale_ids)}]={{{\",\".join(map(str,scale_ids))}}};\n",
    "#endif\n",
    "''')\n"
   ]
  },
  {
   "cell_type": "code",
   "execution_count": 5,
   "metadata": {},
   "outputs": [],
   "source": [
    "\n",
    "# full rotation images\n",
    "for filename in [\"tumbling\"]:\n",
    "  img_rotate_and_scale(filename,min_angle=0,max_angle=359)\n",
    "\n",
    "for filename in [\"pine_snow_0\",\"checkpoint_left\"]:\n",
    "  for i,scale in enumerate(unique_scales):\n",
    "    img_rotate_and_scale(filename,min_angle=-30,max_angle=31,scale=scale, scale_id=i, scale_range=unique_scales_count)\n"
   ]
  },
  {
   "cell_type": "code",
   "execution_count": 8,
   "metadata": {},
   "outputs": [],
   "source": [
    "\n",
    "# animated coins\n",
    "coins =  Image.open(f'../source/images/coin-strip.png')\n",
    "for i in range(5):\n",
    "  src = coins.crop((i*16,0,i*16+16,16))\n",
    "  for k,s in enumerate(unique_scales):\n",
    "    img_scale(src,2*s,i*unique_scales_count + k,\"coin\")"
   ]
  },
  {
   "cell_type": "code",
   "execution_count": 7,
   "metadata": {},
   "outputs": [],
   "source": [
    "from PIL import Image,ImageDraw\n",
    "import math\n",
    "\n",
    "# skybox\n",
    "src =  Image.open('./sky_background_raw_inverted_simple.png')\n",
    "src = src.convert('RGBA')\n",
    "src_width, src_height = src.size\n",
    "for i in range(-30,31):\n",
    "    angle = i\n",
    "    # find extent\n",
    "    dst = src.rotate(angle, resample=Image.BICUBIC, expand=True, fillcolor=(255,255,255,0))\n",
    "    width, height = dst.size\n",
    "    # find min/max height\n",
    "    nx, ny = math.cos(angle * math.pi / 180), math.sin(angle * math.pi / 180)\n",
    "    nx, ny = ny, -nx    \n",
    "    extents = []\n",
    "    for delta in [src_height/2,-src_height/2]:\n",
    "      miny, maxy = math.inf, -math.inf\n",
    "      extent = []\n",
    "      for x in [-200,200]:        \n",
    "          Nx, Ny = delta * nx, delta * ny\n",
    "          t = (Nx - x) / ny\n",
    "          y = Ny + t * nx\n",
    "          extent.append(height/2+y)    \n",
    "      extents.append(extent)\n",
    "    top, bottom = min(extents[0]), max(extents[1])\n",
    "    dst = dst.crop((width/2-200,top,width/2+200,bottom))\n",
    "    width, height = dst.size\n",
    "    img = Image.new('RGBA',size=(width,height),color=(255,255,255))\n",
    "    draw = ImageDraw.Draw(img)\n",
    "    draw.rectangle((0,0,width,height/2),fill=(255,255,255),width=0)\n",
    "    img.alpha_composite(dst,(0,0))\n",
    "    img = img.convert(mode=\"1\")\n",
    "    img.save(f'../source/images/generated/sky_background-table-{i+30+1}.png',bits=1,optimize=False)"
   ]
  }
 ],
 "metadata": {
  "kernelspec": {
   "display_name": ".env",
   "language": "python",
   "name": "python3"
  },
  "language_info": {
   "codemirror_mode": {
    "name": "ipython",
    "version": 3
   },
   "file_extension": ".py",
   "mimetype": "text/x-python",
   "name": "python",
   "nbconvert_exporter": "python",
   "pygments_lexer": "ipython3",
   "version": "3.9.13"
  }
 },
 "nbformat": 4,
 "nbformat_minor": 2
}
