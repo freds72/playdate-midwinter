{
 "cells": [
  {
   "cell_type": "code",
   "execution_count": 7,
   "metadata": {},
   "outputs": [],
   "source": [
    "from PIL import Image\n",
    "\n",
    "def rotate_and_scale(filename):\n",
    "  src =  Image.open(f'../source/images/{filename}.png')\n",
    "  for i in range(-127,127):\n",
    "    angle = 90*i/128\n",
    "    dst = src.rotate(angle, resample=Image.NEAREST, expand=True)\n",
    "    dst = dst.crop(dst.getbbox())\n",
    "    dst.save(f'../source/images/{filename}_{i}.png',bits=1,optimize=False)"
   ]
  },
  {
   "cell_type": "code",
   "execution_count": 8,
   "metadata": {},
   "outputs": [],
   "source": [
    "for filename in [\"pine_snow_0\"]:\n",
    "  rotate_and_scale(filename)"
   ]
  }
 ],
 "metadata": {
  "kernelspec": {
   "display_name": ".env",
   "language": "python",
   "name": "python3"
  },
  "language_info": {
   "codemirror_mode": {
    "name": "ipython",
    "version": 3
   },
   "file_extension": ".py",
   "mimetype": "text/x-python",
   "name": "python",
   "nbconvert_exporter": "python",
   "pygments_lexer": "ipython3",
   "version": "3.9.13"
  }
 },
 "nbformat": 4,
 "nbformat_minor": 2
}
