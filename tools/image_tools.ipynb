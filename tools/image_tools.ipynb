{
 "cells": [
  {
   "cell_type": "code",
   "execution_count": 8,
   "metadata": {},
   "outputs": [],
   "source": [
    "from PIL import Image,ImageDraw\n",
    "import math\n",
    "\n",
    "#########################\n",
    "# rotated skybox\n",
    "src =  Image.open('./sky_background_raw_inverted_bw.png')\n",
    "src = src.convert('RGBA')\n",
    "src_width, src_height = src.size\n",
    "for i in range(-30,31):\n",
    "    angle = i\n",
    "    # find extent\n",
    "    dst = src.rotate(angle, resample=Image.BICUBIC, expand=True, fillcolor=(0,0,0,0))\n",
    "    width, height = dst.size\n",
    "    # find min/max height\n",
    "    nx, ny = math.cos(angle * math.pi / 180), math.sin(angle * math.pi / 180)\n",
    "    nx, ny = ny, -nx    \n",
    "    extents = []\n",
    "    for delta in [src_height/2,-src_height/2]:\n",
    "      miny, maxy = math.inf, -math.inf\n",
    "      extent = []\n",
    "      for x in [-200,200]:        \n",
    "          Nx, Ny = delta * nx, delta * ny\n",
    "          t = (Nx - x) / ny\n",
    "          y = Ny + t * nx\n",
    "          extent.append(height/2+y)    \n",
    "      extents.append(extent)\n",
    "    top, bottom = min(extents[0]), max(extents[1])\n",
    "    dst = dst.crop((width/2-200,top,width/2+200,bottom))\n",
    "    width, height = dst.size\n",
    "    img = Image.new('RGBA',size=(width,height),color=(0,0,0))\n",
    "    draw = ImageDraw.Draw(img)\n",
    "    draw.rectangle((0,0,width,height/2),fill=(0,0,0),width=0)\n",
    "    img.alpha_composite(dst,(0,0))\n",
    "    img = img.convert(mode=\"1\")\n",
    "    img.save(f'../source/images/generated/sky_background-table-{i+30+1}.png',bits=1,optimize=False)"
   ]
  },
  {
   "cell_type": "code",
   "execution_count": 7,
   "metadata": {},
   "outputs": [],
   "source": [
    "import math\n",
    "import random\n",
    "from PIL import Image, ImageDraw\n",
    "\n",
    "def lerp(a,b,t):\n",
    "\treturn a+(b-a)*t\n",
    "\n",
    "images = []\n",
    "for i in range(20):  \n",
    "  img = Image.new('RGBA',(400,240),color=(0,0,0,0))\n",
    "  # draw circles\n",
    "  draw = ImageDraw.Draw(img)\n",
    "  random.seed(i)\n",
    "  for x in range(0,400,16):\n",
    "    for y in range(0,240,16):\n",
    "      x0 = x + random.uniform(-8,8)\n",
    "      y0 = y + random.uniform(-8,8)\n",
    "      r = lerp(-16-y/8,0,x/400)\n",
    "      r = max(0,r+58*i/20)\n",
    "      leftUpPoint = (x0-r, y0-r)\n",
    "      rightDownPoint = (x0+r, y0+r)\n",
    "      twoPointList = [leftUpPoint, rightDownPoint]\n",
    "      draw.ellipse(twoPointList, fill=(255,255,255,255))\t\t\t\n",
    "  img.save(f'../source/images/generated/fadein-table-{i+1}.png',optimize=False)\n"
   ]
  }
 ],
 "metadata": {
  "kernelspec": {
   "display_name": ".env",
   "language": "python",
   "name": "python3"
  },
  "language_info": {
   "codemirror_mode": {
    "name": "ipython",
    "version": 3
   },
   "file_extension": ".py",
   "mimetype": "text/x-python",
   "name": "python",
   "nbconvert_exporter": "python",
   "pygments_lexer": "ipython3",
   "version": "3.9.13"
  }
 },
 "nbformat": 4,
 "nbformat_minor": 2
}
