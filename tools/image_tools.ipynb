{
 "cells": [
  {
   "cell_type": "code",
   "execution_count": 1,
   "metadata": {},
   "outputs": [],
   "source": [
    "from PIL import Image\n",
    "\n",
    "def rotate_and_scale(filename):\n",
    "  src =  Image.open(f'../source/images/{filename}.png')\n",
    "  for i in range(360):\n",
    "    angle = i\n",
    "    dst = src.rotate(angle, resample=Image.NEAREST, expand=True)\n",
    "    dst = dst.crop(dst.getbbox())\n",
    "    dst.save(f'../source/images/generated/{filename}_{i}.png',bits=1,optimize=False)"
   ]
  },
  {
   "cell_type": "code",
   "execution_count": 2,
   "metadata": {},
   "outputs": [],
   "source": [
    "for filename in [\"pine_snow_0\",\"arrow\"]:\n",
    "  rotate_and_scale(filename)"
   ]
  },
  {
   "cell_type": "code",
   "execution_count": 77,
   "metadata": {},
   "outputs": [],
   "source": [
    "from PIL import Image,ImageDraw\n",
    "import math\n",
    "\n",
    "# skybox\n",
    "src =  Image.open('./sky_background_raw.png')\n",
    "src = src.convert('RGBA')\n",
    "src_width, src_height = src.size\n",
    "for i in range(-30,30,15):\n",
    "    angle = i\n",
    "    # find extent\n",
    "    dst = src.rotate(angle, resample=Image.BICUBIC, expand=True, fillcolor=(255,255,255,0))\n",
    "    width, height = dst.size\n",
    "    # find min/max height\n",
    "    nx, ny = math.cos(angle * math.pi / 180), math.sin(angle * math.pi / 180)\n",
    "    nx, ny = ny, -nx    \n",
    "    extents = []\n",
    "    for delta in [src_height/2,-src_height/2]:\n",
    "      miny, maxy = math.inf, -math.inf\n",
    "      extent = []\n",
    "      for x in [-200,200]:        \n",
    "          Nx, Ny = delta * nx, delta * ny\n",
    "          t = (Nx - x) / ny\n",
    "          y = Ny + t * nx\n",
    "          extent.append(height/2+y)    \n",
    "      extents.append(extent)\n",
    "    top, bottom = min(extents[0]), max(extents[1])\n",
    "    dst = dst.crop((width/2-200,top,width/2+200,bottom))\n",
    "    width, height = dst.size\n",
    "    img = Image.new('RGBA',size=(width,height),color=(0,0,0))\n",
    "    draw = ImageDraw.Draw(img)\n",
    "    draw.rectangle((0,0,width,height/2),fill=(255,255,255),width=0)\n",
    "    # img.paste(dst,(0,0))\n",
    "    img = img.convert(mode=\"1\")\n",
    "    img.save(f'../source/images/generated/sky_background_{i}.png',bits=1,optimize=False)"
   ]
  }
 ],
 "metadata": {
  "kernelspec": {
   "display_name": ".env",
   "language": "python",
   "name": "python3"
  },
  "language_info": {
   "codemirror_mode": {
    "name": "ipython",
    "version": 3
   },
   "file_extension": ".py",
   "mimetype": "text/x-python",
   "name": "python",
   "nbconvert_exporter": "python",
   "pygments_lexer": "ipython3",
   "version": "3.9.13"
  }
 },
 "nbformat": 4,
 "nbformat_minor": 2
}
