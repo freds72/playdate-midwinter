{
 "cells": [
  {
   "cell_type": "code",
   "execution_count": 48,
   "metadata": {},
   "outputs": [],
   "source": [
    "from PIL import Image\n",
    "import math\n",
    "import os\n",
    "\n",
    "bayer_n = 4\n",
    "bayer_matrix_4x4 = [\n",
    "    [    -0.5,       0,  -0.375,   0.125 ],\n",
    "    [    0.25,   -0.25,   0.375, - 0.125 ],\n",
    "    [ -0.3125,  0.1875, -0.4375,  0.0625 ],\n",
    "    [  0.4375, -0.0625,  0.3125, -0.1875 ],\n",
    "]\n",
    "\n",
    "def linear_to_srgb(b):\n",
    "  y = 2.4\n",
    "  if b<=0.0031308: return 12.92 * b\n",
    "  return 1.055 * math.pow(b, 1/y) - 0.055\n",
    "\n",
    "def linear_to_linear(b): return b\n",
    "w = 32\n",
    "bayer_r = 1\n",
    "\n",
    "os.makedirs(\"../source/images/generated\",exist_ok=True)\n",
    "\n",
    "for i in range(16):\n",
    "  img = Image.new('1',size=(32,32),color=0)\n",
    "  for sy in range(32):\n",
    "    for sx in range(32):\n",
    "      bayer_value = bayer_matrix_4x4[sy % bayer_n][sx % bayer_n]\n",
    "      output_color = linear_to_linear(i/16 + (bayer_r * bayer_value))\n",
    "      color_result = 0\n",
    "      if (output_color < 0.5):\n",
    "          color_result = 255\n",
    "      img.putpixel((sx,sy),color_result) \n",
    "  # display(img)\n",
    "  img.save(f'../source/images/generated/bayer-noise{w}x{w}-table-{i+1}.png',bits=1,optimize=False)"
   ]
  }
 ],
 "metadata": {
  "kernelspec": {
   "display_name": ".env",
   "language": "python",
   "name": "python3"
  },
  "language_info": {
   "codemirror_mode": {
    "name": "ipython",
    "version": 3
   },
   "file_extension": ".py",
   "mimetype": "text/x-python",
   "name": "python",
   "nbconvert_exporter": "python",
   "pygments_lexer": "ipython3",
   "version": "3.9.13"
  }
 },
 "nbformat": 4,
 "nbformat_minor": 2
}
