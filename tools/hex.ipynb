{
 "cells": [
  {
   "cell_type": "code",
   "execution_count": 10,
   "metadata": {},
   "outputs": [
    {
     "name": "stdout",
     "output_type": "stream",
     "text": [
      "poke4(0x5000,0xff140e1e,0xff2d1a71,0xff3257be,0xff409def,0xff70dbff,0xffbfffff,0xff3e32d5,0xff6e6aff,0xffa6adff,0xffd8e0ff,0xff652bbc,0xffb44cef,0xffec8cff,0xffffcdff,0xff480e55,0xff941887,0xffe444c3,0xffff91e2,0xff190c12,0xff550e2b,0xffaf102e,0xffff424f,0xffff9792,0xffffd5cf,0xff491d1e,0xffaa2c1e,0xfff66d1e,0xffffae68,0xffffe1b5,0xff492917,0xff97530f,0xffdd8c00,0xfffbc800,0xfffff699,0xff0c101b,0xff0e3e12,0xff38741a,0xff6cb328,0xffafe356,0xffe4fca2,0xff0d384c,0xff177578,0xff00bc9f,0xff6becbd,0xffc9fccc,0xff353234,0xff665d5b,0xff998d86,0xffcdbfb3,0xffeae6da,0xff2f3143,0xff505d6d,0xff7b95a0,0xffa6cfd0,0xffdfeae4,0xff8d4131,0xffcb734d,0xffefaf79,0xff9c2b3b,0xffe45761,0xffffffff,0xff000000,0xffe4162b,0xffffff40\n"
     ]
    }
   ],
   "source": [
    "data=\"\"\"140e1e\n",
    "2d1a71\n",
    "3257be\n",
    "409def\n",
    "70dbff\n",
    "bfffff\n",
    "3e32d5\n",
    "6e6aff\n",
    "a6adff\n",
    "d8e0ff\n",
    "652bbc\n",
    "b44cef\n",
    "ec8cff\n",
    "ffcdff\n",
    "480e55\n",
    "941887\n",
    "e444c3\n",
    "ff91e2\n",
    "190c12\n",
    "550e2b\n",
    "af102e\n",
    "ff424f\n",
    "ff9792\n",
    "ffd5cf\n",
    "491d1e\n",
    "aa2c1e\n",
    "f66d1e\n",
    "ffae68\n",
    "ffe1b5\n",
    "492917\n",
    "97530f\n",
    "dd8c00\n",
    "fbc800\n",
    "fff699\n",
    "0c101b\n",
    "0e3e12\n",
    "38741a\n",
    "6cb328\n",
    "afe356\n",
    "e4fca2\n",
    "0d384c\n",
    "177578\n",
    "00bc9f\n",
    "6becbd\n",
    "c9fccc\n",
    "353234\n",
    "665d5b\n",
    "998d86\n",
    "cdbfb3\n",
    "eae6da\n",
    "2f3143\n",
    "505d6d\n",
    "7b95a0\n",
    "a6cfd0\n",
    "dfeae4\n",
    "8d4131\n",
    "cb734d\n",
    "efaf79\n",
    "9c2b3b\n",
    "e45761\n",
    "ffffff\n",
    "000000\n",
    "e4162b\n",
    "ffff40\"\"\"\n",
    "clipboard = \",\".join(map('0xff{0}'.format,data.splitlines()))\n",
    "print(f'poke4(0x5000,{clipboard})')"
   ]
  },
  {
   "cell_type": "code",
   "execution_count": 4,
   "metadata": {},
   "outputs": [
    {
     "name": "stdout",
     "output_type": "stream",
     "text": [
      "got image: 64x1\n",
      "poke4(0x5000,0xff000000,0xff030100,0xff0b0906,0xff14100c,0xff1c150f,0xff1f1c16,0xff27221f,0xff332e2a,0xff3d3530,0xff574b44,0xff635b52,0xff786e61,0xff918770,0xffb3a38d,0xffcec4b3,0xffdbd4c5,0xff3b2b1a,0xff42331d,0xff594830,0xff665a3d,0xff7a6e51,0xff918770,0xffb3a38d,0xffcec4b3,0xffdbd4c5,0xffdbd4c5,0xffdbd4c5,0xff6c1f1f,0xff8f372d,0xff904f38,0xffa66544,0xff918770,0xffb3a38d,0xffcec4b3,0xffdbd4c5,0xff193824,0xff27502f,0xff336037,0xff467345,0xff6a8a5f,0xff91a880,0xffcec4b3,0xffdbd4c5,0xffdbd4c5,0xffdbd4c5,0xff151b1c,0xff182226,0xff1e2e38,0xff243642,0xff444b64,0xff4e5b73,0xff52708a,0xff5b8ba8,0xff7ca6ba,0xffa7c2ca,0xffdbd4c5,0xffdbd4c5,0xffcec4b3,0xffdbd4c5,0xff7ca6ba,0xffa7c2ca,0xffab814b,0xffbda15d,0xffc9c67b\n"
     ]
    }
   ],
   "source": [
    "from PIL import Image,ImageGrab\n",
    "\n",
    "img = ImageGrab.grabclipboard()\n",
    "if img:\n",
    "  width, height = img.size\n",
    "  print(f\"got image: {width}x{height}\")\n",
    "  # create target image with known format\n",
    "  dst = Image.new(\"RGB\",img.size)\n",
    "  dst.paste(img)\n",
    "  palette = []\n",
    "  for y in range(height):\n",
    "    for x in range(width):\n",
    "      r,g,b = dst.getpixel((x,y))\n",
    "      palette.append(f'0xff{r:02x}{g:02x}{b:02x}')\n",
    "  print(f'poke4(0x5000,{\",\".join(palette)})')  "
   ]
  },
  {
   "cell_type": "code",
   "execution_count": null,
   "metadata": {},
   "outputs": [],
   "source": [
    "from PIL import Image,ImageGrab\n",
    "\n",
    "img = ImageGrab.grabclipboard()\n",
    "if img:\n",
    "  width, height = img.size\n",
    "  print(f\"got image: {width}x{height}\")\n",
    "  # create target image with known format\n",
    "  dst = Image.new(\"RGB\",img.size)\n",
    "  dst.paste(img)\n",
    "  userdata = []\n",
    "  for x in range(width):\n",
    "    r,g,b = dst.getpixel((x,0))\n",
    "    userdata.append(palette.index(f'{r:02x}{g:02x}{b:02x}'))\n",
    "  print(f'img = userdata(\"u8\",{width},{height},\"{\"\".join(map(\"{:02x}\".format,userdata))}\")')"
   ]
  },
  {
   "cell_type": "code",
   "execution_count": 6,
   "metadata": {},
   "outputs": [
    {
     "name": "stdout",
     "output_type": "stream",
     "text": [
      "0x80000000,\n",
      "0x40000000,\n",
      "0x20000000,\n",
      "0x10000000,\n",
      "0x8000000,\n",
      "0x4000000,\n",
      "0x2000000,\n",
      "0x1000000,\n",
      "0x800000,\n",
      "0x400000,\n",
      "0x200000,\n",
      "0x100000,\n",
      "0x80000,\n",
      "0x40000,\n",
      "0x20000,\n",
      "0x10000,\n",
      "0x8000,\n",
      "0x4000,\n",
      "0x2000,\n",
      "0x1000,\n",
      "0x800,\n",
      "0x400,\n",
      "0x200,\n",
      "0x100,\n",
      "0x80,\n",
      "0x40,\n",
      "0x20,\n",
      "0x10,\n",
      "0x08,\n",
      "0x04,\n",
      "0x02,\n",
      "0x01\n"
     ]
    }
   ],
   "source": [
    "masks = []\n",
    "for i in range(32):\n",
    "  masks.append(f'0x{(0x80000000>>i):02x}')\n",
    "print(\",\\n\".join(masks))"
   ]
  },
  {
   "cell_type": "code",
   "execution_count": 10,
   "metadata": {},
   "outputs": [
    {
     "name": "stdout",
     "output_type": "stream",
     "text": [
      "((*(dither_ramp + ((lu + 0 * du)>> 16) * 32)) & 0x80000000)|\n",
      "((*(dither_ramp + ((lu + 1 * du)>> 16) * 32)) & 0x40000000)|\n",
      "((*(dither_ramp + ((lu + 2 * du)>> 16) * 32)) & 0x20000000)|\n",
      "((*(dither_ramp + ((lu + 3 * du)>> 16) * 32)) & 0x10000000)|\n",
      "((*(dither_ramp + ((lu + 4 * du)>> 16) * 32)) & 0x8000000)|\n",
      "((*(dither_ramp + ((lu + 5 * du)>> 16) * 32)) & 0x4000000)|\n",
      "((*(dither_ramp + ((lu + 6 * du)>> 16) * 32)) & 0x2000000)|\n",
      "((*(dither_ramp + ((lu + 7 * du)>> 16) * 32)) & 0x1000000)|\n",
      "((*(dither_ramp + ((lu + 8 * du)>> 16) * 32)) & 0x800000)|\n",
      "((*(dither_ramp + ((lu + 9 * du)>> 16) * 32)) & 0x400000)|\n",
      "((*(dither_ramp + ((lu + 10 * du)>> 16) * 32)) & 0x200000)|\n",
      "((*(dither_ramp + ((lu + 11 * du)>> 16) * 32)) & 0x100000)|\n",
      "((*(dither_ramp + ((lu + 12 * du)>> 16) * 32)) & 0x80000)|\n",
      "((*(dither_ramp + ((lu + 13 * du)>> 16) * 32)) & 0x40000)|\n",
      "((*(dither_ramp + ((lu + 14 * du)>> 16) * 32)) & 0x20000)|\n",
      "((*(dither_ramp + ((lu + 15 * du)>> 16) * 32)) & 0x10000)|\n",
      "((*(dither_ramp + ((lu + 16 * du)>> 16) * 32)) & 0x8000)|\n",
      "((*(dither_ramp + ((lu + 17 * du)>> 16) * 32)) & 0x4000)|\n",
      "((*(dither_ramp + ((lu + 18 * du)>> 16) * 32)) & 0x2000)|\n",
      "((*(dither_ramp + ((lu + 19 * du)>> 16) * 32)) & 0x1000)|\n",
      "((*(dither_ramp + ((lu + 20 * du)>> 16) * 32)) & 0x800)|\n",
      "((*(dither_ramp + ((lu + 21 * du)>> 16) * 32)) & 0x400)|\n",
      "((*(dither_ramp + ((lu + 22 * du)>> 16) * 32)) & 0x200)|\n",
      "((*(dither_ramp + ((lu + 23 * du)>> 16) * 32)) & 0x100)|\n",
      "((*(dither_ramp + ((lu + 24 * du)>> 16) * 32)) & 0x80)|\n",
      "((*(dither_ramp + ((lu + 25 * du)>> 16) * 32)) & 0x40)|\n",
      "((*(dither_ramp + ((lu + 26 * du)>> 16) * 32)) & 0x20)|\n",
      "((*(dither_ramp + ((lu + 27 * du)>> 16) * 32)) & 0x10)|\n",
      "((*(dither_ramp + ((lu + 28 * du)>> 16) * 32)) & 0x08)|\n",
      "((*(dither_ramp + ((lu + 29 * du)>> 16) * 32)) & 0x04)|\n",
      "((*(dither_ramp + ((lu + 30 * du)>> 16) * 32)) & 0x02)|\n",
      "((*(dither_ramp + ((lu + 31 * du)>> 16) * 32)) & 0x01)\n"
     ]
    }
   ],
   "source": [
    "code = \"((*(dither_ramp + ((lu + {0} * du)>> 16) * 32)) & 0x{1:02x})\"\n",
    "print(\"|\\n\".join([code.format(i,0x80000000>>i) for i in range(32)]))\n"
   ]
  }
 ],
 "metadata": {
  "kernelspec": {
   "display_name": ".env",
   "language": "python",
   "name": "python3"
  },
  "language_info": {
   "codemirror_mode": {
    "name": "ipython",
    "version": 3
   },
   "file_extension": ".py",
   "mimetype": "text/x-python",
   "name": "python",
   "nbconvert_exporter": "python",
   "pygments_lexer": "ipython3",
   "version": "3.9.13"
  }
 },
 "nbformat": 4,
 "nbformat_minor": 2
}
