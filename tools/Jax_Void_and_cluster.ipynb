{
  "cells": [
    {
      "cell_type": "code",
      "execution_count": 2,
      "metadata": {
        "id": "5eHGEQK2bJUb"
      },
      "outputs": [],
      "source": [
        "import numpy as np\n",
        "import matplotlib.pyplot as plt\n",
        "import jax\n",
        "import jax.numpy as jnp\n",
        "import random"
      ]
    },
    {
      "cell_type": "markdown",
      "metadata": {
        "id": "z8RRBrEyLIIi"
      },
      "source": [
        "\"Simplified\" void and cluster method.\n",
        "1. Initialize the pattern to a few random seed pixels. This is necessary as the algorithm is fully deterministic otherwise, so without seeding it with randomness, it would produce a regular grid.\n",
        "2. Repeat until all pixel set:\n",
        "  1. Find empty pixel with smallest energy.\n",
        "  2. Set this pixel to the index of added point.\n",
        "  3. Add energy contribution of this pixel to the accumulated LUT.\n",
        "  4. Repeat until all pixels are set."
      ]
    },
    {
      "cell_type": "code",
      "execution_count": 3,
      "metadata": {
        "id": "wgUWhLHXbN-5"
      },
      "outputs": [],
      "source": [
        "def void_and_cluster(size, sigma = 1.9, seed_points_per_dim = -1):\n",
        "  # The number of seed points will be seed_points_per_dim * seed_points_per_dim.\n",
        "  # By default 1 in 8 points per axis will be a seed point, feel free to play around.\n",
        "  if seed_points_per_dim < 0:\n",
        "    seed_points_per_dim = max(size // 8, 1)\n",
        "\n",
        "  # Construct the precomputed energy LUT.\n",
        "  # This has maximum energy at (0,0) and after size/2 \"mirrors\" to corresponds to\n",
        "  # toroidally wrapped pattern.\n",
        "  wrapped_pattern = np.hstack((np.linspace(0, size/2-1, size//2), np.linspace(size/2, 1, size//2)))\n",
        "  wrapped_pattern = np.exp(-0.5 * wrapped_pattern * wrapped_pattern / (sigma * sigma))\n",
        "  wrapped_pattern = np.outer(wrapped_pattern, wrapped_pattern)\n",
        "\n",
        "  # A trick / hack to simplyify the algorithm a lot.\n",
        "  # Instead of tracking empty vs used pixels, simply put 'inf' there.\n",
        "  # This way their energy will never be the lowest until whole array is empty.\n",
        "  wrapped_pattern[0, 0] = np.inf\n",
        "  lut = jnp.array(wrapped_pattern)\n",
        "  jax.device_put(lut)\n",
        "\n",
        "  # Helper function that gives final energy for a point with position given by\n",
        "  # tuple pos_xy_source.\n",
        "  def energy(pos_xy_source):\n",
        "    return jnp.roll(lut, shift=(pos_xy_source[0], pos_xy_source[1]), axis=(0, 1))\n",
        "\n",
        "  # For seeding I used a jittered grid. Guarantees an \"ok\" not too clumped\n",
        "  # initialization.\n",
        "  points_set = []\n",
        "  bucket_size = size // seed_points_per_dim\n",
        "  for x in range(0, seed_points_per_dim):\n",
        "    for y in range(0, seed_points_per_dim):\n",
        "      points_set.append((random.randint(x * bucket_size, ((x + 1) * bucket_size - 1)),\n",
        "                         random.randint(y * bucket_size, ((y + 1) * bucket_size - 1))))\n",
        "  points_set = np.random.permutation(points_set)\n",
        "\n",
        "  energy_current = jnp.array(sum(energy(p) for p in points_set))\n",
        "  jax.device_put(energy_current)\n",
        "\n",
        "  # Helper function for energy updates. Finds pixel with lowest energy, and\n",
        "  # updates the energy map to contain it.\n",
        "  @jax.jit\n",
        "  def update_step(energy_current):\n",
        "    pos_flat = energy_current.argmin()\n",
        "    pos_x, pos_y = pos_flat // size, pos_flat % size\n",
        "    return energy_current + energy((pos_x, pos_y)), pos_x, pos_y\n",
        "\n",
        "  # Initialize final output blue noise texture.\n",
        "  final_res = np.zeros_like(lut)\n",
        "  init_size = seed_points_per_dim * seed_points_per_dim\n",
        "  for i, p in enumerate(points_set):\n",
        "    final_res[p[0], p[1]] = i\n",
        "\n",
        "  # Our whole optimization is trivial - update energy, update blue noise texture.\n",
        "  for x in range(size * size - init_size):\n",
        "    energy_current, pos_x, pos_y = update_step(energy_current)\n",
        "    final_res[pos_x, pos_y] = x + init_size\n",
        "  # We return values [0, size * size - 1].\n",
        "  return final_res / float(size * size)"
      ]
    },
    {
      "cell_type": "markdown",
      "metadata": {
        "id": "ZZHVMiV0SGH1"
      },
      "source": [
        "The results are pretty good!"
      ]
    },
    {
      "cell_type": "code",
      "execution_count": 35,
      "metadata": {
        "colab": {
          "base_uri": "https://localhost:8080/",
          "height": 299
        },
        "id": "TebNt3gZZOlZ",
        "outputId": "687bf139-7559-4e0d-e1dd-0c266d5ced22"
      },
      "outputs": [],
      "source": [
        "import PIL\n",
        "N = 8\n",
        "for i in range(16):\n",
        "  pattern = void_and_cluster(N)\n",
        "  # G is a NxNx1 matrix\n",
        "  G = np.zeros((N,N,1))\n",
        "\n",
        "  # Where we set the RGB for each pixel\n",
        "  t = i/16.0\n",
        "  G[pattern>t] = 1\n",
        "  G[pattern<t] = 0\n",
        "\n",
        "  img = PIL.Image.new(\"1\",(N,N))\n",
        "  for index, values in np.ndenumerate(G):\n",
        "    img.putpixel((index[0],index[1]), int(values))\n",
        "  img.save(f'../source/images/noise{i}.png',bits=1,optimize=False)"
      ]
    }
  ],
  "metadata": {
    "accelerator": "GPU",
    "colab": {
      "provenance": []
    },
    "kernelspec": {
      "display_name": "Python 3",
      "name": "python3"
    },
    "language_info": {
      "codemirror_mode": {
        "name": "ipython",
        "version": 3
      },
      "file_extension": ".py",
      "mimetype": "text/x-python",
      "name": "python",
      "nbconvert_exporter": "python",
      "pygments_lexer": "ipython3",
      "version": "3.9.13"
    }
  },
  "nbformat": 4,
  "nbformat_minor": 0
}
